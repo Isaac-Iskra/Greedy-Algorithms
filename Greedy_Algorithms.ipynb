{
  "nbformat": 4,
  "nbformat_minor": 0,
  "metadata": {
    "colab": {
      "provenance": []
    },
    "kernelspec": {
      "name": "python3",
      "display_name": "Python 3"
    },
    "language_info": {
      "name": "python"
    }
  },
  "cells": [
    {
      "cell_type": "code",
      "execution_count": null,
      "metadata": {
        "id": "guqetLfwKH2N"
      },
      "outputs": [],
      "source": [
        "#Greedy Algorithms"
      ]
    },
    {
      "cell_type": "code",
      "source": [
        "#Assign Mice to Holes\n",
        "#This allows us to put a particular mouse close to the corresponding hole in the holes list.\n",
        "#We can then find the maximum difference between the mice and the corresponding hole position to determine how much time to get there.\n",
        "\n",
        "def assignHole(mice, holes):\n",
        "\n",
        "  #Base - num of mice and holes should be the same\n",
        "  if len(mice) != len(holes):\n",
        "    return \"Number of mice and holes not the same\"\n",
        "\n",
        "  #Sort first\n",
        "  mice.sort()\n",
        "  holes.sort()\n",
        "\n",
        "  #Finding max difference between ith mice and hole\n",
        "  max_diff = 0\n",
        "\n",
        "  for i in range(len(mice)):\n",
        "      if max_diff < abs(mice[i] - holes[i]):\n",
        "          max_diff = abs(mice[i] - holes[i])\n",
        "\n",
        "  return max_diff\n",
        "\n",
        "mice = [4, -4, 2]\n",
        "holes = [4, 0, 5]\n",
        "\n",
        "min_time = assignHole(mice, holes)\n",
        "\n",
        "print(\"The last mouse gets to the hole in time:\", min_time)\n"
      ],
      "metadata": {
        "id": "MSlv9C6dKNZ2"
      },
      "execution_count": null,
      "outputs": []
    },
    {
      "cell_type": "code",
      "source": [
        "#Fractionl Knapsack\n",
        "#The key to this is to keep in mind which data in your array will bring you the most profit.\n",
        "#My data can be divided if it is divisible.\n",
        "#We are given weights in the values of n items, and we need to put them in a knapsack of capacity w, in such a way to get the maximum value of the knapsack.\n",
        "\n",
        "weight = [30, 50, 10, 70, 40]\n",
        "value = [150, 100, 90, 140, 120]\n",
        "capacity = 150\n",
        "\n",
        "def fractional_knapsack(value, weight, capacity):\n",
        "  items = list(range(len(value)))\n",
        "  print(items)\n",
        "  ratio = [v//w for v, w in zip(value, weight)]\n",
        "  print(ratio)\n",
        "  srt_ratios = sorted(ratio, reverse=True)\n",
        "  print(srt_ratios)\n",
        "  items.sort(key=lambda i: ratio[i], reverse=True)\n",
        "  print(items)\n",
        "\n",
        "  max_value = 0\n",
        "  fractions = [0] * len(value)\n",
        "  print(fractions)\n",
        "  for i in items:\n",
        "      if weight[i] <= capacity:\n",
        "          fractions[i] = 1\n",
        "          max_value += value[i]\n",
        "          capacity -= weight[i]\n",
        "      else:\n",
        "          fractions[i] = capacity // weight[i]\n",
        "          max_value += value[i] * capacity // weight[i]\n",
        "\n",
        "  return max_value\n",
        "\n",
        "print(fractional_knapsack(value, weight, capacity))\n",
        "\n"
      ],
      "metadata": {
        "id": "h5sua59gKQCa"
      },
      "execution_count": null,
      "outputs": []
    }
  ]
}